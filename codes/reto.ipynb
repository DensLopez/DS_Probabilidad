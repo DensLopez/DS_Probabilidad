{
 "cells": [
  {
   "cell_type": "markdown",
   "metadata": {},
   "source": [
    "# Ejercicios"
   ]
  },
  {
   "cell_type": "markdown",
   "metadata": {},
   "source": [
    "## Parte 1\n",
    "Te doy la bienvenida al último paso de este curso de probabilidad para ciencia de datos. Es momento de que pongas a prueba todo lo que has aprendido.\n",
    "\n",
    "Completa los ejercicios que se proponen en cada una de las notebooks de Colab de diferentes temas cada una. Recuerda compartir tus resultados o dudas en los comentarios para que entre todos podamos apoyarnos.\n",
    "\n",
    "Tipos de probabilidad\n",
    "Los diferentes tipos de probabilidades que existen con frecuencia generan algo de confusión, estos ejercicios te permitirán fortalecer el entendimiento de estos conceptos:\n",
    "\n",
    "https://colab.research.google.com/drive/1yQFCKo2GHtbJui0szPjLhAJSjpivBeun?usp=sharing#scrollTo=YTVHbmebucgL\n"
   ]
  },
  {
   "cell_type": "markdown",
   "metadata": {},
   "source": [
    "### Ejercicios (bloque 1)\n",
    "Considerando un lanzamiento de un dado y considerando los siguientes eventos aleatorios:\n",
    "\n",
    "A = {el resultado del lanzamiento de un dado es 6}\n",
    "\n",
    "B = {el resultado del lanzamiento de un dado es par}\n",
    "\n",
    "C = {el resultado del lanzamiento de un dado es impar}\n",
    "\n",
    "Calcula las siguientes probabilidades: \n",
    "\n",
    "1. $P(A|B) = \\frac 1 3$\n",
    "   \n",
    "2. $P(A|C) = \\frac 0 3 $\n",
    "   \n",
    "3. $P(B|C) = \\frac 0 3$"
   ]
  },
  {
   "cell_type": "markdown",
   "metadata": {},
   "source": [
    "### Ejercicios (bloque 2)\n",
    "\n",
    "Considerando una ruleta de doce números \n",
    "\n",
    "{$1,2,3,4,5,6,7,8,9,10,11,12$} \n",
    "\n",
    "dos jugadores eligen 6 números, cada uno de ellos. Supón que el jugador 1 elige A = {$1,2,3,4,5,6$} y calcula las siguientes probabilidades: \n",
    "\n",
    "1. $P(A|B)$ sabiendo que el jugador 2 elige B = {$2,4,6,8,10,12$}\n",
    "\n",
    "    A = {1,2,3,4,5,6} y B = {2,4,6,8,10,12} y $A\\cap B$ = {2,4,6}\n",
    "\n",
    "    $P(A|B) = \\frac 3 6$\n",
    "\n",
    "2. $P(A|B)$ sabiendo que el jugador 2 elige B = {$1,3,5,7,9,11$}\n",
    "    \n",
    "    A = {1,2,3,4,5,6} y B = {1,3,5,7,9,11} y $A\\cap B$ = {1,3,5}\n",
    "\n",
    "    $P(A|B) = \\frac 3 6$\n",
    "\n",
    "3. $P(A|B)$ sabiendo que el jugador 2 elige B = {$5,6,7,8,9,10$}\n",
    "    \n",
    "    A = {1,2,3,4,5,6} y B = {5,6,7,8,9,10} y $A\\cap B$ = {5,6}\n",
    "\n",
    "    $P(A|B) = \\frac 2 6$"
   ]
  },
  {
   "cell_type": "markdown",
   "metadata": {},
   "source": [
    "### Ejercicios (bloque 3)\n",
    "\n",
    "Considera un problema donde se lanzan dos monedas, sean $m_1$ y $m_2$. Verifica la regla del producto para las siguientes probabilidades (dibuja el espacio muestral y calcula cada probabilidad por separado): \n",
    "1. $P(m_1 = \\text{cara}, m_2 = \\text{sello})$\n",
    "2. $P(m_1 = \\text{cara} | m_2 = \\text{sello})$\n",
    "3. $P(m_2 = \\text{sello})$"
   ]
  },
  {
   "attachments": {
    "image.png": {
     "image/png": "[encoded data removed]"
    }
   },
   "cell_type": "markdown",
   "metadata": {},
   "source": [
    "Tenemos el espacio muestral siguiente:\n",
    "\n",
    "![image.png](attachment:image.png)"
   ]
  },
  {
   "cell_type": "markdown",
   "metadata": {},
   "source": [
    "1. $P(m_1 = \\text{cara}, m_2 = \\text{cruz}) = \\frac 1 4$\n",
    "   \n",
    "2. $P(m_1 = \\text{cara} | m_2 = \\text{cruz}) = \\frac 1 2$\n",
    "   \n",
    "3. $P(m_2 = \\text{cruz}) = \\frac 2 4$"
   ]
  },
  {
   "cell_type": "markdown",
   "metadata": {},
   "source": [
    "## Parte 2\n",
    "Distribuciones de probabilidad\n",
    "\n",
    "Luego de que entendemos que hay diferentes tipos de probabilidades, el concepto de distribución de probabilidad nos dice que podemos usar funciones matemáticas para mapear cada ocurrencia posible de una variable aleatoria a un número que es la probabilidad de esa ocurrencia.\n",
    "\n",
    "En este conjunto de retos exploramos más a fondo el cálculo con distribuciones discretas, especialmente la binomial:\n",
    "\n",
    "https://colab.research.google.com/drive/10xbi88L6alsPC8-cec_6VuUeh7ttFaEF?usp=sharing\n",
    "\n",
    "### Distribuciones discretas (e.j. binomial)\n",
    "\n",
    "---\n",
    "\n",
    "\n",
    "\n",
    "Recordando que la distribución binomial está dada por: \n",
    "\n",
    "$$\n",
    "P(k, n; p) = {n \\choose k} p^k (1-p)^{n-k} = \\frac{n!}{k!(n-k)!}p^k (1-p)^{n-k}\n",
    "$$\n",
    "\n",
    "donde $P(k, n; p)$ representa la probabilidad de obtener $k$ éxitos de $n$ intentos con posibilidad **binaria** (por ejemplo, lanzamientos de moneda). \n",
    "\n",
    "`Ejemplo`: la probabilidad de obtener 4 caras a partir de 10 lanzamientos consecutivos de moneda, está dada por (tomando $p=0.5$, por lo tanto $1-p=0.5$): \n",
    "\n",
    "$$\n",
    "P(k=4, n=10; p=0.5) = {10 \\choose 4} \\left( \\frac{1}{2}\\right)^{10} = \\frac{10!}{4!6!} \\left( \\frac{1}{2}\\right)^{10}\n",
    "$$\n",
    "\n",
    "---\n",
    "\n",
    "Ahora, la probabilidad de obtener $k$ o menos éxitos a partir de $n$ intentos está dada por la distribución acumulada: \n",
    "\n",
    "$$\n",
    "C(k, n; p) = \\sum_{i=0}^k P(i, n;p) = \\sum_{i=0}^k {n \\choose i} p^i (1-p)^{n-i}\n",
    "$$ \n",
    "\n",
    "Por convención entendemos que:\n",
    "\n",
    "$$C(k=3,n=6;p=0.5) = P(k \\leq 3, n=6, p=0.5 )$$\n",
    "\n",
    "\n",
    "`Ejemplo`: la probabilidad de obtener 3 o menos caras a partir de 6 lanzamientos consecutivos está dada por (tomando $p=0.5$, por lo tanto $1-p=0.5$): \n",
    "\n",
    "$$P(k \\leq 3, n=6;p=0.5) = \\sum_{i=0}^3 {6 \\choose i} \\left(\\frac{1}{2} \\right)^6 $$\n",
    "\n",
    "$$P(k \\leq 3, n=6;p=0.5) = \\left(\\frac{1}{2} \\right)^6 \\sum_{i=0}^3 {6 \\choose i} $$\n",
    "\n",
    "$$P(k \\leq 3, n=6;p=0.5) = \\left(\\frac{1}{2} \\right)^6 \\left\\{ {6 \\choose 0} + {6 \\choose 1} + {6 \\choose 2} + {6 \\choose 3} \\right\\}$$\n",
    "\n",
    "</br>\n",
    "\n",
    ">Nota importante: se puede factorizar el termino debido a que la probabilidad es justa o igual y no existe diferencia entre la probabilidad de fracaso, para el caso que sean probabilidades diferentes de 0.5 se tiene que recurrir al uso de sustitución puntual por cada valor que va adquiriendo K."
   ]
  },
  {
   "cell_type": "markdown",
   "metadata": {},
   "source": [
    "# Ejercicios (bloque 1)\n",
    "\n",
    "Calcula a mano las siguientes probabilidades (tomando $p=0.5$, por lo tanto $1-p=0.5$):\n",
    "\n",
    "1. Probabilidad de obtener 3 caras a partir de 12 lanzamientos de moneda.\n",
    "\n",
    "2. Probabilidad de obtener 5 o menos caras a partir de 10 lanzamientos de moneda. \n",
    "\n",
    "3. Probabilidad de obtener menos de 6 caras a partir de 10 lanzamientos de moneda.\n",
    "\n",
    "Calcula a mano las mismas probabilidades anteriores pero considerando ahora $p=0.3$."
   ]
  },
  {
   "cell_type": "markdown",
   "metadata": {},
   "source": [
    "### Para la resolución de algunos ejercicios nos apoyaremos de \n",
    "$$\n",
    "C(k, n; p) = \\sum_{i=0}^k P(i, n;p) = \\sum_{i=0}^k {n \\choose i} p^i (1-p)^{n-i}\n",
    "$$ "
   ]
  },
  {
   "cell_type": "markdown",
   "metadata": {},
   "source": [
    "## RESPUESTAS\n",
    "### 1.- Tomando $p=0.5$\n",
    "1. $\\frac{55}{1024}=0.0557$\n",
    "\n",
    "2. $\\frac{319}{512}=0.6230$\n",
    "\n",
    "   - $\\binom{10} 0 =\\frac{1}{1024}$\n",
    "\n",
    "   - $\\binom{10} 1 =\\frac{5}{512}$\n",
    "\n",
    "   - $\\binom{10} 2 =\\frac{45}{1024}$\n",
    "\n",
    "   - $\\binom{10} 3 =\\frac{15}{128}$\n",
    "\n",
    "   - $\\binom{10} 4 =\\frac{105}{512}$\n",
    "  \n",
    "   - $\\binom{10} 5 =\\frac{63}{256}$\n",
    "\n",
    "3. $\\frac{53}{64}=0.8281$\n",
    "\n",
    "   - $\\binom{10} 0 =\\frac{1}{1024}$\n",
    "\n",
    "   - $\\binom{10} 1 =\\frac{5}{512}$\n",
    "\n",
    "   - $\\binom{10} 2 =\\frac{45}{1024}$\n",
    "\n",
    "   - $\\binom{10} 3 =\\frac{15}{128}$\n",
    "\n",
    "   - $\\binom{10} 4 =\\frac{105}{512}$\n",
    "  \n",
    "   - $\\binom{10} 5 =\\frac{63}{256}$\n",
    "   \n",
    "   - $\\binom{10} 6 =\\frac{105}{512}$\n",
    "\n",
    "------------------\n"
   ]
  },
  {
   "cell_type": "markdown",
   "metadata": {},
   "source": [
    "\n",
    "### 2.- Tomando $p=0.3$\n",
    "1. $0.2397$\n",
    "\n",
    "2. $0.95254$\n",
    "\n",
    "   - $\\binom{10} 0 =0.02824$\n",
    "\n",
    "   - $\\binom{10} 1 =0.1210$\n",
    "\n",
    "   - $\\binom{10} 2 =0.2335$\n",
    "\n",
    "   - $\\binom{10} 3 =0.2668$\n",
    "\n",
    "   - $\\binom{10} 4 =0.2001$\n",
    "  \n",
    "   - $\\binom{10} 5 =0.1029$\n",
    "\n",
    "2. $0.9893$\n",
    "\n",
    "   - $\\binom{10} 0 =0.02824$\n",
    "\n",
    "   - $\\binom{10} 1 =0.1210$\n",
    "\n",
    "   - $\\binom{10} 2 =0.2335$\n",
    "\n",
    "   - $\\binom{10} 3 =0.2668$\n",
    "\n",
    "   - $\\binom{10} 4 =0.2001$\n",
    "  \n",
    "   - $\\binom{10} 5 =0.1029$\n",
    "   \n",
    "   - $\\binom{10} 6 =0.0368$"
   ]
  },
  {
   "cell_type": "markdown",
   "metadata": {},
   "source": [
    "Usando la función `mi_binom()`, definida previamente, verifica el cálculo de todas las probabilidades del punto anterior."
   ]
  },
  {
   "cell_type": "code",
   "execution_count": 5,
   "metadata": {},
   "outputs": [],
   "source": [
    "#Probabilidad de distribución binomial\n",
    "from math import factorial\n",
    "\n",
    "def my_binomial(k, n, p):\n",
    "  return factorial(n)/(factorial(k)*(factorial(n-k)))*pow(p,k)*pow(1-p, n-k)"
   ]
  },
  {
   "cell_type": "code",
   "execution_count": 6,
   "metadata": {},
   "outputs": [
    {
     "name": "stdout",
     "output_type": "stream",
     "text": [
      "Probabilidad de obtener 3 caras a partir de 12 lanzamientos con p=0.5 \n",
      "P = 0.0537109375\n",
      "\n"
     ]
    }
   ],
   "source": [
    "print(f'Probabilidad de obtener 3 caras a partir de 12 lanzamientos con p=0.5 \\nP = {my_binomial(3,12,0.5)}\\n')"
   ]
  },
  {
   "cell_type": "code",
   "execution_count": 7,
   "metadata": {},
   "outputs": [
    {
     "name": "stdout",
     "output_type": "stream",
     "text": [
      "Probabilidad de obtener 3 caras a partir de 12 lanzamientos con p=0.5 \n",
      "P = 0.0537109375\n",
      "\n",
      "Probabilidad de obtener 3 caras a partir de 12 lanzamientos con p=0.3 \n",
      "P = 0.23970042557999985\n"
     ]
    }
   ],
   "source": [
    "#Comprobando ejercicio 1\n",
    "print(f'Probabilidad de obtener 3 caras a partir de 12 lanzamientos con p=0.5 \\nP = {my_binomial(3,12,0.5)}\\n')\n",
    "print(f'Probabilidad de obtener 3 caras a partir de 12 lanzamientos con p=0.3 \\nP = {my_binomial(3,12,0.3)}')"
   ]
  },
  {
   "cell_type": "markdown",
   "metadata": {},
   "source": [
    "Como se puede observar el calculo fue correcto. Lo haré con el siguiente código, para verificar si se puede expresar en forma racional.     \n",
    "Pero solo tomaré en cuenta cuando K=3."
   ]
  },
  {
   "cell_type": "code",
   "execution_count": 8,
   "metadata": {},
   "outputs": [],
   "source": [
    "#Obteniendo el código para calcular la distribución acumulada\n",
    "from fractions import Fraction\n",
    "from math import factorial\n",
    "\n",
    "def mi_bino(k,n,p):\n",
    "    proba_kn=[]\n",
    "    for ka in range(k+1):\n",
    "        dis_ka=(factorial(n)/(factorial(ka)*factorial(n-ka)))*(p**ka)*((1-p)**(n-ka))\n",
    "        print(f'Probabilidad para obtener {ka} caras = {Fraction(dis_ka)} = {dis_ka} ')\n",
    "        proba_kn.append(dis_ka)\n",
    "        \n",
    "    proba_acu=sum(proba_kn)\n",
    "    print(f'\\nProbabilidad para obtener {k} o menos caras  = {Fraction(proba_acu)} = {proba_acu}\\n')\n",
    "    return proba_acu,proba_kn"
   ]
  },
  {
   "cell_type": "code",
   "execution_count": 9,
   "metadata": {},
   "outputs": [
    {
     "name": "stdout",
     "output_type": "stream",
     "text": [
      "Probabilidad para obtener 0 caras = 1/8 = 0.125 \n",
      "Probabilidad para obtener 1 caras = 3/8 = 0.375 \n",
      "Probabilidad para obtener 2 caras = 3/8 = 0.375 \n",
      "\n",
      "Probabilidad para obtener 2 o menos caras  = 7/8 = 0.875\n",
      "\n",
      "Probabilidad por Kn: [0.125, 0.375, 0.375]\n",
      "Probabilidad total: 0.875\n"
     ]
    }
   ],
   "source": [
    "# Valores específicos:\n",
    "k_val = 2\n",
    "n_val = 3\n",
    "p_val = 0.5\n",
    "\n",
    "proba_acu, proba_kn = mi_bino(k_val, n_val, p_val)\n",
    "print(f'Probabilidad por Kn: {proba_kn}')\n",
    "print(f'Probabilidad total: {proba_acu}')"
   ]
  },
  {
   "cell_type": "code",
   "execution_count": 10,
   "metadata": {},
   "outputs": [
    {
     "name": "stdout",
     "output_type": "stream",
     "text": [
      "Probabilidad para obtener 0 caras = 1/4096 = 0.000244140625 \n",
      "Probabilidad para obtener 1 caras = 3/1024 = 0.0029296875 \n",
      "Probabilidad para obtener 2 caras = 33/2048 = 0.01611328125 \n",
      "Probabilidad para obtener 3 caras = 55/1024 = 0.0537109375 \n",
      "\n",
      "Probabilidad para obtener 3 o menos caras  = 299/4096 = 0.072998046875\n",
      "\n",
      "La probabilidad de que se obtenga un valor de k = 3 en 12 intentos con p = 0.5\n",
      "P = 0.0537109375 = 55/1024\n",
      "\n",
      "Probabilidad para obtener 0 caras = 7978958832736201/576460752303423488 = 0.01384128720099999 \n",
      "Probabilidad para obtener 1 caras = 2564665339093779/36028797018963968 = 0.07118376274799995 \n",
      "Probabilidad para obtener 2 caras = 6045282585006765/36028797018963968 = 0.1677902979059999 \n",
      "Probabilidad para obtener 3 caras = 8636117978581093/36028797018963968 = 0.23970042557999985 \n",
      "\n",
      "Probabilidad para obtener 3 o menos caras  = 8872375414863825/18014398509481984 = 0.4925157734349997\n",
      "\n",
      "La probabilidad de que se obtenga un valor de k = 3 en 12 intentos con p = 0.3\n",
      "P = 0.23970042557999985 = 8636117978581093/36028797018963968\n",
      "\n"
     ]
    }
   ],
   "source": [
    "# Resolviendo ejercicio 1:\n",
    "k_val = 3\n",
    "n_val = 12\n",
    "\n",
    "#Resolviendo para p=0.5\n",
    "p_val = 0.5\n",
    "proba_acu, proba_kn = mi_bino(k_val, n_val, p_val)\n",
    "print(f\"La probabilidad de que se obtenga un valor de k = {k_val} en {n_val} intentos con p = {p_val}\\nP = {proba_kn[3]} = {Fraction(proba_kn[3])}\\n\")\n",
    "\n",
    "#Resolviendo para p=0.3\n",
    "p_val = 0.3\n",
    "proba_acu, proba_kn = mi_bino(k_val, n_val, p_val)\n",
    "print(f\"La probabilidad de que se obtenga un valor de k = {k_val} en {n_val} intentos con p = {p_val}\\nP = {proba_kn[3]} = {Fraction(proba_kn[3])}\\n\")"
   ]
  },
  {
   "cell_type": "code",
   "execution_count": 11,
   "metadata": {},
   "outputs": [
    {
     "name": "stdout",
     "output_type": "stream",
     "text": [
      "Probabilidad para obtener 0 caras = 1/1024 = 0.0009765625 \n",
      "Probabilidad para obtener 1 caras = 5/512 = 0.009765625 \n",
      "Probabilidad para obtener 2 caras = 45/1024 = 0.0439453125 \n",
      "Probabilidad para obtener 3 caras = 15/128 = 0.1171875 \n",
      "Probabilidad para obtener 4 caras = 105/512 = 0.205078125 \n",
      "Probabilidad para obtener 5 caras = 63/256 = 0.24609375 \n",
      "\n",
      "Probabilidad para obtener 5 o menos caras  = 319/512 = 0.623046875\n",
      "\n",
      "Probabilidad para obtener 0 caras = 8141794727281839/288230376151711744 = 0.028247524899999984 \n",
      "Probabilidad para obtener 1 caras = 272604734172383/2251799813685248 = 0.12106082099999993 \n",
      "Probabilidad para obtener 2 caras = 2102950806472669/9007199254740992 = 0.23347444049999988 \n",
      "Probabilidad para obtener 3 caras = 4806744700508957/18014398509481984 = 0.2668279319999998 \n",
      "Probabilidad para obtener 4 caras = 7210117050763437/36028797018963968 = 0.2001209489999999 \n",
      "Probabilidad para obtener 5 caras = 7416120395070963/72057594037927936 = 0.10291934519999994 \n",
      "\n",
      "Probabilidad para obtener 5 o menos caras  = 8580717490718967/9007199254740992 = 0.9526510125999995\n",
      "\n"
     ]
    }
   ],
   "source": [
    "#Resolviendo ejercicio 2\n",
    "k_val = 5\n",
    "n_val = 10\n",
    "\n",
    "#Resolviendo para p=0.5\n",
    "p_val = 0.5\n",
    "proba_acu, proba_kn = mi_bino(k_val, n_val, p_val)\n",
    "\n",
    "#Resolviendo para p=0.3\n",
    "p_val = 0.3\n",
    "proba_acu, proba_kn = mi_bino(k_val, n_val, p_val)"
   ]
  },
  {
   "cell_type": "code",
   "execution_count": 12,
   "metadata": {},
   "outputs": [
    {
     "name": "stdout",
     "output_type": "stream",
     "text": [
      "Probabilidad para obtener 0 caras = 1/1024 = 0.0009765625 \n",
      "Probabilidad para obtener 1 caras = 5/512 = 0.009765625 \n",
      "Probabilidad para obtener 2 caras = 45/1024 = 0.0439453125 \n",
      "Probabilidad para obtener 3 caras = 15/128 = 0.1171875 \n",
      "Probabilidad para obtener 4 caras = 105/512 = 0.205078125 \n",
      "Probabilidad para obtener 5 caras = 63/256 = 0.24609375 \n",
      "Probabilidad para obtener 6 caras = 105/512 = 0.205078125 \n",
      "\n",
      "Probabilidad para obtener 6 o menos caras  = 53/64 = 0.828125\n",
      "\n",
      "Probabilidad para obtener 0 caras = 8141794727281839/288230376151711744 = 0.028247524899999984 \n",
      "Probabilidad para obtener 1 caras = 272604734172383/2251799813685248 = 0.12106082099999993 \n",
      "Probabilidad para obtener 2 caras = 2102950806472669/9007199254740992 = 0.23347444049999988 \n",
      "Probabilidad para obtener 3 caras = 4806744700508957/18014398509481984 = 0.2668279319999998 \n",
      "Probabilidad para obtener 4 caras = 7210117050763437/36028797018963968 = 0.2001209489999999 \n",
      "Probabilidad para obtener 5 caras = 7416120395070963/72057594037927936 = 0.10291934519999994 \n",
      "Probabilidad para obtener 6 caras = 2648614426811059/72057594037927936 = 0.03675690899999999 \n",
      "\n",
      "Probabilidad para obtener 6 o menos caras  = 8911794294070349/9007199254740992 = 0.9894079215999995\n",
      "\n"
     ]
    }
   ],
   "source": [
    "#Resolviendo ejercicio 3\n",
    "k_val = 6\n",
    "n_val = 10\n",
    "\n",
    "#Resolviendo para p=0.5\n",
    "p_val = 0.5\n",
    "proba_acu, proba_kn = mi_bino(k_val, n_val, p_val)\n",
    "\n",
    "#Resolviendo para p=0.3\n",
    "p_val = 0.3\n",
    "proba_acu, proba_kn = mi_bino(k_val, n_val, p_val)"
   ]
  },
  {
   "cell_type": "markdown",
   "metadata": {},
   "source": [
    "## Parte 3\n",
    "\n",
    "Mientras que en este otro conjunto de retos exploramos más a detalle la distribución gaussiana como representante de las distribuciones continuas:\n",
    "\n",
    "https://colab.research.google.com/drive/1OVQ0fwQ1q1lPFjmjPHyuCkD58SZfm4o9?usp=sharing"
   ]
  },
  {
   "cell_type": "markdown",
   "metadata": {},
   "source": [
    "# Distribuciones continuas (e.j. gaussiana)\n",
    "\n",
    "Recordemos que la distribución de probabilidad normal o gaussiana está dada por: \n",
    "\n",
    "$$P(X) = \\frac{1}{\\sigma \\sqrt{2 \\pi}} \\exp{\\left[-\\frac{1}{2}\\left(\\frac{X-\\mu}{\\sigma} \\right)^2 \\right]}$$\n",
    "\n",
    "donde:\n",
    "\n",
    "* $\\mu$: media de la distribución\n",
    "* $\\sigma$: desviación estandar de la distribución\n",
    "\n",
    "`Ejemplo`: considerando una variable aleatoria que sigue una distribución normal con media $\\mu=4$ y desviación estándar $\\sigma=0.3$, la probabilidad de que dicha variable tome el valor de $0.2$ está dada por: \n",
    "\n",
    "$$P(0.2) =  \\frac{1}{0.3 \\sqrt{2 \\pi}} \\exp{\\left[-\\frac{1}{2}\\left(\\frac{0.2-4}{0.3} \\right)^2 \\right]}$$\n",
    "\n",
    "Lo cual en Python se traduce en: \n",
    "\n",
    "```python\n",
    "from scipy.stats import norm\n",
    "\n",
    "norm(mu, sigma).pdf(X)\n",
    "```\n",
    "\n",
    "---\n",
    "\n",
    "Así también, la distribucion de probabilidad acumulada correspondiente está dada por: \n",
    "\n",
    "$$C(X) = \\int_{x<=X} P(x)dx = \\int_{- \\infty}^xP(X)dX $$\n",
    "\n",
    "teniendo en cuenta que $Dom(X) = (-\\infty, \\infty)$. \n",
    "\n",
    "`Ejemplo`: considerando una variable aleatoria que sigue una distribucion normal con media $\\mu=4$ y desviación estándar $\\sigma=0.3$, la probabilidad de que dicha variable tome el valor de $0.2$ o menos está dada por:\n",
    "\n",
    "$$C(0.2) = \\int_{x<=0.2} P(x)dx = \\int_{- \\infty}^{0.2}  \\left\\{\\frac{1}{0.3 \\sqrt{2 \\pi}} \\exp{\\left[-\\frac{1}{2}\\left(\\frac{X-4}{0.3} \\right)^2 \\right]} \\right\\} dX $$\n",
    "\n",
    "La cual se calcula en Python como: \n",
    "\n",
    "```python \n",
    "from scipy.stats import norm\n",
    "\n",
    "norm(mu, sigma).cdf(X)\n",
    "```\n",
    "\n",
    "_**Es importante recordar que la función de probabilidad acumulada de la distribución gaussiana no se puede calcular de forma exacta, ya que la integral anterior no tiene una expresión cerrada conocida. Es decir, los métodos de integración conocidos no funcionan para resolver esta integral.**_"
   ]
  },
  {
   "cell_type": "markdown",
   "metadata": {},
   "source": [
    "# Ejercicios (bloque 1)\n",
    "\n",
    "Considerando una variable aleatoria que sigue una distribución normal con media $\\mu=4$ y desviación estándar $\\sigma=0.1$, calcula las siguientes probabilidades (usando Python):\n",
    "\n",
    "1. $P(X=4)$\n",
    "2. $P(X=-10)$\n",
    "3. $P(X=10)$\n",
    "4. $P(X<=4)$\n",
    "6. $P(X>=4)$\n"
   ]
  },
  {
   "cell_type": "code",
   "execution_count": 13,
   "metadata": {},
   "outputs": [
    {
     "name": "stdout",
     "output_type": "stream",
     "text": [
      "Calculo de Densidad de probabilidad con Promedio = 4 y desviación estándar = 11 \n",
      "\n",
      "F(X = 4) = 0.03626748003649388\n",
      "\n",
      "F(X = -10) = 0.0161352144695116\n",
      "\n",
      "F(X = 10) = 0.03125443050835863\n",
      "\n",
      "F(X <= 4) = 0.5\n",
      "\n",
      "F(X >= 4) = 0.5\n",
      "\n"
     ]
    },
    {
     "data": {
      "image/png": "[encoded data removed]",
      "text/plain": [
       "<Figure size 640x480 with 1 Axes>"
      ]
     },
     "metadata": {},
     "output_type": "display_data"
    }
   ],
   "source": [
    "from scipy.stats import norm\n",
    "from matplotlib import pyplot\n",
    "promedio = 4\n",
    "desviacion = 11\n",
    "print(f'Calculo de Densidad de probabilidad con Promedio = {promedio} y desviación estándar = {desviacion} \\n')\n",
    "\n",
    "# 1 X=4\n",
    "X=4\n",
    "print(f'F(X = {X}) = {norm(promedio, desviacion).pdf(X)}\\n')\n",
    "\n",
    "# 1 X=-10\n",
    "X=-10\n",
    "print(f'F(X = {X}) = {norm(promedio, desviacion).pdf(X)}\\n')\n",
    "\n",
    "# 1 X=10\n",
    "X=10\n",
    "print(f'F(X = {X}) = {norm(promedio, desviacion).pdf(X)}\\n')\n",
    "\n",
    "# 1 X<=4\n",
    "X=4\n",
    "print(f'F(X <= {X}) = {norm(promedio, desviacion).cdf(X)}\\n')\n",
    "\n",
    "# 1 X>=\n",
    "X=4\n",
    "print(f'F(X >= {X}) = {1-norm(promedio, desviacion).cdf(X)}\\n')\n",
    "\n",
    "#Creando un objeto basado en la distribución normal\n",
    "distribucion = norm(promedio,desviacion)\n",
    "\n",
    "#Obtener valores numéricos sobre los cuales evaluar la función\n",
    "#teórica de la Densidad de Probabilidad\n",
    "X = [value for value in range(-30,30)]\n",
    "#Calculando las probabilidades de cada uno de esos datos \n",
    "#de manera recursiva y usando el objeto distribucion\n",
    "probabilidades = [distribucion.pdf(x) for x in X]\n",
    "\n",
    "#Graficando la función de densidad de probabilidad\n",
    "pyplot.plot(X,probabilidades)\n",
    "pyplot.axhline(y=distribucion.pdf(4), color='r',linestyle='--')\n",
    "pyplot.axhline(y=distribucion.pdf(-10),color='g',linestyle=':')\n",
    "pyplot.axhline(y=distribucion.pdf(10),color='b',linestyle='--')\n",
    "pyplot.axhline(y=distribucion.pdf(3),color='k')\n",
    "pyplot.show()"
   ]
  },
  {
   "cell_type": "markdown",
   "metadata": {},
   "source": [
    "# De la binomial a la gaussiana\n",
    "\n",
    "En la clase 8 vimos como generar secuencias aleatorias de experimentos binomiales ([aquí](https://colab.research.google.com/drive/1MR9VZg19vHyZhvWWuxtNcy_3PZQ7AfwW?usp=sharing)), donde cada experimento era lanzar un cierto número de monedas. \n",
    "\n",
    "**¿Qué sucede si el número consecutivo de monedas que lanzamos en cada experimento (trial) es muy largo?**\n",
    "\n",
    "La función `generate_binomial_trials()` nos muestra lo que sucede si graficamos los resultados de muchos experimentos de lanzar 100 monedas en cada intento, con pyplot: "
   ]
  },
  {
   "cell_type": "code",
   "execution_count": 14,
   "metadata": {},
   "outputs": [
    {
     "data": {
      "text/plain": [
       "<BarContainer object of 42 artists>"
      ]
     },
     "execution_count": 14,
     "metadata": {},
     "output_type": "execute_result"
    },
    {
     "data": {
      "image/png": "[encoded data removed]",
      "text/plain": [
       "<Figure size 640x480 with 1 Axes>"
      ]
     },
     "metadata": {},
     "output_type": "display_data"
    }
   ],
   "source": [
    "import numpy as np\n",
    "from numpy.random import binomial\n",
    "import matplotlib.pyplot as plt\n",
    "\n",
    "def generate_binomial_trials(trials=1000, coin_toss=100):\n",
    "  '''\n",
    "  el resultado de esta funcion es generar un conjuntos \n",
    "  de experimentos binomiales (trials) y de cada uno obtener \n",
    "  las cantidades de exitos en cada secuencia (e.j. lanzar monedas).\n",
    "\n",
    "  * trial: es una secuencia de <coin_toss> lanzamientos de moneda\n",
    "\n",
    "  * coin_toss: es el numero de monedas lanzadas en cada trial\n",
    "  '''\n",
    "  arr = []\n",
    "  for _ in range(trials):\n",
    "    arr.append(binomial(coin_toss, 0.5))\n",
    "  values, dist = np.unique(arr, return_counts=True)\n",
    "\n",
    "  return values, dist, arr\n",
    "\n",
    "values, dist,arr = generate_binomial_trials(100000)\n",
    "plt.bar(values, dist)"
   ]
  },
  {
   "cell_type": "markdown",
   "metadata": {},
   "source": [
    "¿Se parece a algo conocido? Tal vez una ditribución normal se ajuste, para verificarlo haremos el siguiente ejercicio: \n",
    "\n",
    "# Ejercicios (bloque 2)\n",
    "\n",
    "1. Con los resultados anteriores guardados en `values, dist` ajusta, usando el método de estimación paramétrica, una distribución gaussiana donde la media y desviación estándar correspondan a lo calculado a partir de los datos, de la misma manera que se hizo en el notebook de la clase 9 ([aquí](https://colab.research.google.com/drive/1weFtkmxdn_WnGW582Xugj9t7Mjzxis5b?usp=sharing))."
   ]
  },
  {
   "cell_type": "code",
   "execution_count": 15,
   "metadata": {},
   "outputs": [
    {
     "data": {
      "text/plain": [
       "[<matplotlib.lines.Line2D at 0x7fe90e64aab0>]"
      ]
     },
     "execution_count": 15,
     "metadata": {},
     "output_type": "execute_result"
    },
    {
     "data": {
      "image/png": "[encoded data removed]",
      "text/plain": [
       "<Figure size 640x480 with 1 Axes>"
      ]
     },
     "metadata": {},
     "output_type": "display_data"
    }
   ],
   "source": [
    "#OBTENIENDO DATOS IMPORTANTES PARA LA DISTRIBUCIÓN TEÓRICA\n",
    "#Obtener datos de l ejercicio anterior\n",
    "sample = np.array(arr)\n",
    "#Calcular el promedio de los datos\n",
    "promedio = sample.mean()\n",
    "#Calcular la desviación estándar de los datos\n",
    "desviacion = sample.std()\n",
    "#Creando un objeto basado en la distribución normal\n",
    "distribucion = norm(promedio,desviacion)\n",
    "#Obtener valores numéricos sobre los cuales evaluar la función\n",
    "#teórica de la Densidad de Probabilidad\n",
    "x = [value for value in range(30,70)]\n",
    "#Calculando las probabilidades de cada uno de esos datos \n",
    "#de manera recursiva y usando el objeto distribucion\n",
    "probabilidades = [distribucion.pdf(value) for value in x]\n",
    "#Graficando función teórica\n",
    "pyplot.plot(x,probabilidades)"
   ]
  },
  {
   "cell_type": "code",
   "execution_count": 16,
   "metadata": {},
   "outputs": [
    {
     "data": {
      "image/png": "[encoded data removed]",
      "text/plain": [
       "<Figure size 640x480 with 1 Axes>"
      ]
     },
     "metadata": {},
     "output_type": "display_data"
    }
   ],
   "source": [
    "#Graficando los datos del ejercicios de las monedas\n",
    "plt.bar(values, dist)\n",
    "#Graficando la función de densidad de probabilidad\n",
    "pyplot.show()"
   ]
  },
  {
   "cell_type": "markdown",
   "metadata": {},
   "source": [
    "Gratificándolos juntos"
   ]
  },
  {
   "cell_type": "code",
   "execution_count": 17,
   "metadata": {},
   "outputs": [
    {
     "data": {
      "text/plain": [
       "<BarContainer object of 42 artists>"
      ]
     },
     "execution_count": 17,
     "metadata": {},
     "output_type": "execute_result"
    },
    {
     "data": {
      "image/png": "[encoded data removed]",
      "text/plain": [
       "<Figure size 640x480 with 1 Axes>"
      ]
     },
     "metadata": {},
     "output_type": "display_data"
    }
   ],
   "source": [
    "#Graficando función teórica\n",
    "pyplot.plot(x,probabilidades,color='r')\n",
    "#Graficando los datos del ejercicios de las monedas\n",
    "#pyplot.hist(arr,bins=30,density=True)\n",
    "plt.bar(values, dist/len(arr))"
   ]
  },
  {
   "cell_type": "markdown",
   "metadata": {},
   "source": [
    "Si todo salió bien, habrás notado que en efecto una distribución normal se ajusta perfectamente a los datos. Esto se conoce como el **teorema del límite central**, el cual establece que en muchas situaciones conocidas, cuando variables aleatorias independientes se combinan, su total tiende a seguir una distribución normal cuando el número de variables que se combinan es muy grande $n \\rightarrow \\infty$. "
   ]
  },
  {
   "cell_type": "markdown",
   "metadata": {},
   "source": [
    "## Parte 4\n",
    "Estimación de densidades de probabilidad\n",
    "Uno de los métodos más importantes para estimar densidades de probabilidad es el MLE (Maximum Likelihood Estimation), del cual podrás profundizar en este reto:\n",
    "\n",
    "https://colab.research.google.com/drive/19F8F0ID9ErtiHUNbWsOIJ7f22u7jjS0d?usp=sharing\n",
    "\n",
    "\n",
    "# Estimación de máxima verosimilitud\n",
    "\n",
    "Como ya vimos, esta técnica, cuyas siglas en inglés son MLE (maximum likelihood estimation), nos permite encontrar la distribución de probabilidad que mejor estima un cierto conjunto de datos. Para ello consideramos dos pasos:\n",
    "\n",
    "1. Escogemos una distribución $P(X; \\theta)$, con un conjunto de parámetros $\\theta$, dado un conjunto de datos $X$.\n",
    "\n",
    "2. Seleccionamos los valores de los parámetros $\\theta = \\hat{\\theta}$ que mejor ajustan los datos siguiendo la premisa que serán aquellos tales que: \n",
    "\n",
    "$$\n",
    "P(X, \\theta) = L(X, \\hat{\\theta}) = \\max_{\\theta} \\left\\{ L(X, \\theta) \\right\\}\n",
    "$$\n",
    "\n",
    "Así pues, consideremos un conjunto de datos ${x_i}$ como el siguiente, el cual trabajamos en una clase pasada:"
   ]
  },
  {
   "cell_type": "code",
   "execution_count": 18,
   "metadata": {},
   "outputs": [
    {
     "name": "stdout",
     "output_type": "stream",
     "text": [
      "[37 38 39 40 41 42 43 44 45 46 47 48 49 50 51 52 53 54 55]\n"
     ]
    },
    {
     "data": {
      "text/plain": [
       "<BarContainer object of 19 artists>"
      ]
     },
     "execution_count": 18,
     "metadata": {},
     "output_type": "execute_result"
    },
    {
     "data": {
      "image/png": "[encoded data removed]",
      "text/plain": [
       "<Figure size 640x480 with 1 Axes>"
      ]
     },
     "metadata": {},
     "output_type": "display_data"
    }
   ],
   "source": [
    "import pandas as pd\n",
    "import numpy as np\n",
    "import matplotlib.pyplot as plt\n",
    "\n",
    "# recuerda que este archivo lo puedes bajar de: https://seattlecentral.edu/qelp/sets/057/057.html\n",
    "df = pd.read_excel('dataset/s057.xls')\n",
    "arr = df['Normally Distributed Housefly Wing Lengths'].values[4:]\n",
    "values, dist = np.unique(arr, return_counts=True)\n",
    "print(values)\n",
    "plt.bar(values, dist) "
   ]
  },
  {
   "cell_type": "markdown",
   "metadata": {},
   "source": [
    "Si buscamos la distribución que mejor ajuste los datos, lo más razonable es pensar en una gaussiana o normal, y como ya se mostró en una notebook anterior, la distribucion gaussiana ajusta muy bien estos datos. En esta notebook veremos otra cara de la moneda sobre este mismo ejercicio. \n",
    "\n",
    "--- \n",
    "# RETO\n",
    "Usando MLE vas a demostrar que si asumimos que los datos vienen descritos por una función gaussiana:\n",
    "\n",
    "$$\n",
    "P(X;\\theta)=P(X;\\mu, \\sigma) = \\frac{1}{\\sigma \\sqrt{2 \\pi}} \\exp{\\left[-\\frac{1}{2}\\left(\\frac{X-\\mu}{\\sigma} \\right)^2 \\right]}\n",
    "$$\n",
    "\n",
    "Entonces los parámetros que mejor ajustan los datos ${x_i}$ de la celda anterior están dados por: \n",
    "\n",
    "$$\n",
    "\\mu = \\frac{1}{n} \\sum_i^n x_i\n",
    "$$\n",
    "\n",
    "$$\n",
    "\\sigma^2 = \\frac{1}{n}\\sum_i^n (x_i-\\mu)^2\n",
    "$$\n",
    "\n",
    "donde *n* es la cantidad de datos. \n",
    "\n",
    "--- \n",
    "\n",
    "# Paso a paso (a mano)\n",
    "\n",
    "## 1) Escribe la verosimilitud (likelihood)\n",
    "Considera que en este caso asumimos que cada punto sigue una distribución normal \n",
    "\n",
    "$$\n",
    "L(X;\\theta) = \\prod_i^n P(x_i;\\theta)\n",
    "$$\n",
    "\n",
    "y por lo tanto la verosimilitud está dada por: \n",
    "\n",
    "$$\n",
    "L(X;\\mu, \\sigma) = L(\\mu, \\sigma) = \\prod_i^n \\frac{1}{\\sqrt{2 \\pi \\sigma^2}} \\exp{\\left\\{ \\frac{-1}{2\\sigma^2}(x_i - \\mu)^2 \\right\\}} \n",
    "$$\n",
    "\n",
    "## 2) Calcula las ecuaciones del valor máximo\n",
    "\n",
    "Usando MLE se deben calcular los parámetros que conduzcan al máximo de probabilidad: \n",
    "\n",
    "$$\n",
    "\\max L(\\mu, \\sigma) \\rightarrow \\max \\log L(\\mu, \\sigma)\n",
    "$$\n",
    "\n",
    "donde consideramos el logaritmo de la verosimilitud. Demuestra que esto equivale a: \n",
    "\n",
    "$$\n",
    "\\max L(\\mu, \\sigma) = \\min \\left( n \\log \\sigma + \\frac{1}{2 \\sigma^2} \\sum_i (x_i - \\mu)^2 \\right)\n",
    "$$\n",
    "\n",
    "Esto equivale a encontrar el minimo de la función: \n",
    "\n",
    "\n",
    "$$f(\\mu, \\sigma) = n \\log \\sigma + \\frac{1}{2 \\sigma^2} \\sum_i (x_i - \\mu)^2$$\n",
    "\n",
    "lo cual se hace derivando parcialmente la función respecto a ambas variables e igualando a cero.\n",
    "\n",
    "$$\n",
    "\\frac{\\partial L}{\\partial \\mu} = 0\n",
    "$$\n",
    "\n",
    "$$\n",
    "\\frac{\\partial L}{\\partial \\sigma} = 0\n",
    "$$\n",
    "\n",
    "## 3) Resuelve el sistema de ecuaciones resultante\n",
    "\n",
    "Al final habrás obtenido un par de ecuaciones cuyas incógnitas son los parámetros: \n",
    "\n",
    "$$\n",
    "\\frac{-2}{\\sigma^2}\\sum_i (x_i - \\mu) = 0\n",
    "$$\n",
    "$$\n",
    "\\frac{n}{\\sigma} - \\frac{1}{\\sigma^3}\\sum_i (x_i - \\mu)^2 = 0\n",
    "$$\n",
    "\n",
    "Resuélvelas y habrás llegado a las fórmulas indicadas previamente para los parámetros óptimos. \n",
    "\n",
    "**¿No son estas justamente las definiciones típicas de la media y la desviación estándar para un conjunto de datos?**\n",
    "\n",
    "¡Sí, así es! Esto indica que justamente los parámetros son óptimos cuando la desviación estándar y media de los datos coinciden con aquellas de la distribucion gaussiana. "
   ]
  },
  {
   "cell_type": "markdown",
   "metadata": {},
   "source": [
    "---\n",
    "\n",
    "# Comprobación numérica\n",
    "\n",
    "Vamos ahora a hacer una comprobación numérica de que esos parámetros efectivamente ajustan de manera óptima los datos. Construye funciones en Python que te permitan calcular directamente los parámetros óptimos según las ecuaciones encontradas: \n",
    "\n",
    "\n",
    "$$\n",
    "\\mu = \\frac{1}{n} \\sum_i^n x_i\n",
    "$$\n",
    "\n",
    "$$\n",
    "\\sigma^2 = \\frac{1}{n}\\sum_i^n (x_i-\\mu)^2\n",
    "$$"
   ]
  },
  {
   "cell_type": "code",
   "execution_count": 19,
   "metadata": {},
   "outputs": [],
   "source": [
    "## parámetros optimos a partir del cálculo con MLE\n",
    "## completa con tu código aquí:\n",
    "\n",
    "def optimal_mu(arr=arr):\n",
    "  pass\n",
    "\n",
    "def optimal_sigma(arr=arr):\n",
    "  pass"
   ]
  },
  {
   "cell_type": "code",
   "execution_count": 20,
   "metadata": {},
   "outputs": [
    {
     "name": "stdout",
     "output_type": "stream",
     "text": [
      "None 45.5959595959596\n",
      "None 3.8003699764580126\n"
     ]
    }
   ],
   "source": [
    "print(optimal_mu(), arr.mean())\n",
    "print(optimal_sigma(), arr.std())"
   ]
  },
  {
   "cell_type": "markdown",
   "metadata": {},
   "source": [
    "De manera que luego puedas encontrar que ajustan muy bien los datos como sucedió en la notebook de la clase 9."
   ]
  },
  {
   "cell_type": "code",
   "execution_count": 21,
   "metadata": {},
   "outputs": [
    {
     "ename": "TypeError",
     "evalue": "unsupported operand type(s) for -: 'float' and 'NoneType'",
     "output_type": "error",
     "traceback": [
      "\u001b[0;31m---------------------------------------------------------------------------\u001b[0m",
      "\u001b[0;31mTypeError\u001b[0m                                 Traceback (most recent call last)",
      "Cell \u001b[0;32mIn[21], line 8\u001b[0m\n\u001b[1;32m      6\u001b[0m dist \u001b[38;5;241m=\u001b[39m norm(optimal_mu(), optimal_sigma())\n\u001b[1;32m      7\u001b[0m x \u001b[38;5;241m=\u001b[39m np\u001b[38;5;241m.\u001b[39marange(\u001b[38;5;241m30\u001b[39m, \u001b[38;5;241m60\u001b[39m, \u001b[38;5;241m0.1\u001b[39m)\n\u001b[0;32m----> 8\u001b[0m y \u001b[38;5;241m=\u001b[39m [\u001b[43mdist\u001b[49m\u001b[38;5;241;43m.\u001b[39;49m\u001b[43mpdf\u001b[49m\u001b[43m(\u001b[49m\u001b[43mvalue\u001b[49m\u001b[43m)\u001b[49m \u001b[38;5;28;01mfor\u001b[39;00m value \u001b[38;5;129;01min\u001b[39;00m x]\n\u001b[1;32m      9\u001b[0m plt\u001b[38;5;241m.\u001b[39mplot(x,y)\n",
      "File \u001b[0;32m~/miniforge3/lib/python3.12/site-packages/scipy/stats/_distn_infrastructure.py:555\u001b[0m, in \u001b[0;36mrv_continuous_frozen.pdf\u001b[0;34m(self, x)\u001b[0m\n\u001b[1;32m    554\u001b[0m \u001b[38;5;28;01mdef\u001b[39;00m \u001b[38;5;21mpdf\u001b[39m(\u001b[38;5;28mself\u001b[39m, x):\n\u001b[0;32m--> 555\u001b[0m     \u001b[38;5;28;01mreturn\u001b[39;00m \u001b[38;5;28;43mself\u001b[39;49m\u001b[38;5;241;43m.\u001b[39;49m\u001b[43mdist\u001b[49m\u001b[38;5;241;43m.\u001b[39;49m\u001b[43mpdf\u001b[49m\u001b[43m(\u001b[49m\u001b[43mx\u001b[49m\u001b[43m,\u001b[49m\u001b[43m \u001b[49m\u001b[38;5;241;43m*\u001b[39;49m\u001b[38;5;28;43mself\u001b[39;49m\u001b[38;5;241;43m.\u001b[39;49m\u001b[43margs\u001b[49m\u001b[43m,\u001b[49m\u001b[43m \u001b[49m\u001b[38;5;241;43m*\u001b[39;49m\u001b[38;5;241;43m*\u001b[39;49m\u001b[38;5;28;43mself\u001b[39;49m\u001b[38;5;241;43m.\u001b[39;49m\u001b[43mkwds\u001b[49m\u001b[43m)\u001b[49m\n",
      "File \u001b[0;32m~/miniforge3/lib/python3.12/site-packages/scipy/stats/_distn_infrastructure.py:1988\u001b[0m, in \u001b[0;36mrv_continuous.pdf\u001b[0;34m(self, x, *args, **kwds)\u001b[0m\n\u001b[1;32m   1986\u001b[0m args \u001b[38;5;241m=\u001b[39m \u001b[38;5;28mtuple\u001b[39m(\u001b[38;5;28mmap\u001b[39m(asarray, args))\n\u001b[1;32m   1987\u001b[0m dtyp \u001b[38;5;241m=\u001b[39m np\u001b[38;5;241m.\u001b[39mpromote_types(x\u001b[38;5;241m.\u001b[39mdtype, np\u001b[38;5;241m.\u001b[39mfloat64)\n\u001b[0;32m-> 1988\u001b[0m x \u001b[38;5;241m=\u001b[39m np\u001b[38;5;241m.\u001b[39masarray((\u001b[43mx\u001b[49m\u001b[43m \u001b[49m\u001b[38;5;241;43m-\u001b[39;49m\u001b[43m \u001b[49m\u001b[43mloc\u001b[49m)\u001b[38;5;241m/\u001b[39mscale, dtype\u001b[38;5;241m=\u001b[39mdtyp)\n\u001b[1;32m   1989\u001b[0m cond0 \u001b[38;5;241m=\u001b[39m \u001b[38;5;28mself\u001b[39m\u001b[38;5;241m.\u001b[39m_argcheck(\u001b[38;5;241m*\u001b[39margs) \u001b[38;5;241m&\u001b[39m (scale \u001b[38;5;241m>\u001b[39m \u001b[38;5;241m0\u001b[39m)\n\u001b[1;32m   1990\u001b[0m cond1 \u001b[38;5;241m=\u001b[39m \u001b[38;5;28mself\u001b[39m\u001b[38;5;241m.\u001b[39m_support_mask(x, \u001b[38;5;241m*\u001b[39margs) \u001b[38;5;241m&\u001b[39m (scale \u001b[38;5;241m>\u001b[39m \u001b[38;5;241m0\u001b[39m)\n",
      "\u001b[0;31mTypeError\u001b[0m: unsupported operand type(s) for -: 'float' and 'NoneType'"
     ]
    },
    {
     "data": {
      "image/png": "[encoded data removed]",
      "text/plain": [
       "<Figure size 640x480 with 1 Axes>"
      ]
     },
     "metadata": {},
     "output_type": "display_data"
    }
   ],
   "source": [
    "from scipy.stats import norm \n",
    "\n",
    "values, dist = np.unique(arr, return_counts=True)\n",
    "plt.bar(values, dist/len(arr)) \n",
    "\n",
    "dist = norm(optimal_mu(), optimal_sigma())\n",
    "x = np.arange(30, 60, 0.1)\n",
    "y = [dist.pdf(value) for value in x]\n",
    "plt.plot(x,y)"
   ]
  },
  {
   "cell_type": "markdown",
   "metadata": {},
   "source": [
    "Como te habrás dado cuenta los valores óptimos de los parámetros coinciden perfectamente con las definiciones de media y desviación estándar, así como sus contrapartes en Numpy `arr.mean()`  y `arr.std()`."
   ]
  },
  {
   "cell_type": "markdown",
   "metadata": {
    "vscode": {
     "languageId": "plaintext"
    }
   },
   "source": [
    "## Parte 5\n",
    "Teorema de Bayes y machine learning\n",
    "Finalmente, encontrarás en la siguiente notebook un ejemplo donde se profundiza el desarrollo de un clasificador de Naive Bayes. Aquí verás por qué es importante el uso de distribuciones iniciales para ajustar las verosimilitudes con el fin de poder aplicar tus modelos a datos que no estaban en el dataset original de entrenamiento:\n",
    "\n",
    "https://colab.research.google.com/drive/1XbQ6-5Ax8Pksik2MR2kWB87ay85RMX2b?usp=sharing\n",
    "\n",
    "Ahora que tienes claros estos conceptos, a través del desarrollo de estos retos, espero que hayas disfrutado del curso y que con esto tengas toda la motivación para continuar con lo que sigue en temas de matemáticas, machine learning y ciencias de datos en general. Nos vemos en la próxima. ¡Nunca pares de aprender! 💚\n",
    "\n"
   ]
  },
  {
   "cell_type": "markdown",
   "metadata": {},
   "source": [
    "# Ejemplo con clasificador de Naive Bayes\n",
    "\n",
    "Consideremos un conjunto de datos artificial sobre el cual podamos probar un clasificador de Naive Bayes:"
   ]
  },
  {
   "cell_type": "code",
   "execution_count": 22,
   "metadata": {},
   "outputs": [
    {
     "data": {
      "text/plain": [
       "<matplotlib.legend.Legend at 0x7fe90d21f7a0>"
      ]
     },
     "execution_count": 22,
     "metadata": {},
     "output_type": "execute_result"
    },
    {
     "data": {
      "image/png": "[encoded data removed]",
      "text/plain": [
       "<Figure size 640x480 with 1 Axes>"
      ]
     },
     "metadata": {},
     "output_type": "display_data"
    }
   ],
   "source": [
    "from sklearn.datasets import make_blobs\n",
    "import matplotlib.pyplot as plt\n",
    "import numpy as np\n",
    "from scipy.stats import norm\n",
    "\n",
    "X, y = make_blobs(n_samples=10000, centers=2, n_features=2, random_state=1)\n",
    "\n",
    "# esta función ajusta una gausiana \n",
    "# a un conjunto 'data' \n",
    "def fit_distribution(data): \n",
    "  mu = data.mean()\n",
    "  sigma = data.std() \n",
    "  dist = norm(mu, sigma)\n",
    "  return dist\n",
    "\n",
    "plt.scatter(X[y==1][:,0], X[y==1][:,1], label = '1', color='red')\n",
    "plt.scatter(X[y==0][:,0], X[y==0][:,1], label = '0', color = 'blue')\n",
    "plt.legend()"
   ]
  },
  {
   "cell_type": "markdown",
   "metadata": {},
   "source": [
    "Consideramos un modelo de clasificacion de Naive Bayes:\n",
    "\n",
    "$$\n",
    "P(c \\vert x) = P(x \\vert c)P(c)\n",
    "$$\n",
    "\n",
    "donde $P(c)$ es la probabilidad prior dada una clase $c$ y $P(x\\vert c)$ es la verosimilitud de $x$ dada la una clase $c$, con Naive Bayes esto resulta en: \n",
    "\n",
    "$$\n",
    "P(c \\vert x) = P(c)\\prod_iP(x_i \\vert c)\n",
    "$$\n",
    "\n",
    "Lo cual para nuestro caso (`n_features=2`) se traduce en: \n",
    "\n",
    "$$\n",
    "P(c \\vert x) = \\underbrace{P(c)}_{\\text{prior}} \\underbrace{P(x_0 \\vert c) P(x_1 \\vert c)}_{\\text{likelihood}}\n",
    "$$"
   ]
  },
  {
   "cell_type": "code",
   "execution_count": 23,
   "metadata": {},
   "outputs": [],
   "source": [
    "# calculamos priors\n",
    "def prior(c):\n",
    "  return len(X[y==c])/len(X)\n",
    "\n",
    "# tenemos cuatro posibles distribuciones a ajustar (verosimilitud)\n",
    "def distX0(c):\n",
    "  if c==0:\n",
    "    return fit_distribution(X[y==0][:,0])\n",
    "  elif c==1:\n",
    "    return fit_distribution(X[y==1][:,0])\n",
    "\n",
    "def distX1(c):\n",
    "  if c==0:\n",
    "    return fit_distribution(X[y==0][:,1])\n",
    "  elif c==1:\n",
    "    return fit_distribution(X[y==1][:,1])\n",
    "\n",
    "# verosimilitud\n",
    "def likelihood(X, c):\n",
    "  return distX0(c).pdf(X[0])*distX1(c).pdf(X[1])\n",
    "\n",
    "# posterior\n",
    "def probability(c, X):\n",
    "  return prior(c)*likelihood(X,c)\n",
    "\n",
    "predictions = [np.argmax([probability(0, vector), probability(1, vector)]) for vector in X]"
   ]
  },
  {
   "cell_type": "markdown",
   "metadata": {},
   "source": [
    "Al final la distribución posterior nos da la probabilidad de que un dato `X` corresponda a una clase `c`. Luego de esto evaluamos el ajuste del modelo de clasificación al dataset artificial con una matriz de confusión:  "
   ]
  },
  {
   "cell_type": "code",
   "execution_count": 24,
   "metadata": {},
   "outputs": [
    {
     "data": {
      "text/plain": [
       "array([[5000,    0],\n",
       "       [   0, 5000]])"
      ]
     },
     "execution_count": 24,
     "metadata": {},
     "output_type": "execute_result"
    }
   ],
   "source": [
    "from sklearn.metrics import confusion_matrix\n",
    "confusion_matrix(y, predictions)"
   ]
  },
  {
   "cell_type": "markdown",
   "metadata": {},
   "source": [
    "Donde vemos que la distribución ajusta perfectamente los datos, de lo cual podemos también estimar la clase para otros puntos que no estaban inicialmente en el dataset:"
   ]
  },
  {
   "cell_type": "code",
   "execution_count": 25,
   "metadata": {},
   "outputs": [
    {
     "data": {
      "text/plain": [
       "np.int64(1)"
      ]
     },
     "execution_count": 25,
     "metadata": {},
     "output_type": "execute_result"
    }
   ],
   "source": [
    "def class_distribution(x, y):\n",
    "  return np.argmax([probability(0, [x,y]), probability(1, [x,y])])\n",
    "\n",
    "class_distribution(-6, 0)"
   ]
  },
  {
   "cell_type": "code",
   "execution_count": 26,
   "metadata": {},
   "outputs": [
    {
     "data": {
      "text/plain": [
       "np.int64(0)"
      ]
     },
     "execution_count": 26,
     "metadata": {},
     "output_type": "execute_result"
    }
   ],
   "source": [
    "class_distribution(-4, 0)"
   ]
  },
  {
   "cell_type": "code",
   "execution_count": 27,
   "metadata": {},
   "outputs": [
    {
     "data": {
      "text/plain": [
       "<matplotlib.legend.Legend at 0x7fe90cd816a0>"
      ]
     },
     "execution_count": 27,
     "metadata": {},
     "output_type": "execute_result"
    },
    {
     "data": {
      "image/png": "[encoded data removed]",
      "text/plain": [
       "<Figure size 640x480 with 1 Axes>"
      ]
     },
     "metadata": {},
     "output_type": "display_data"
    }
   ],
   "source": [
    "plt.scatter(X[y==1][:,0], X[y==1][:,1], label = '1', color='red', marker = '*')\n",
    "plt.scatter(X[y==0][:,0], X[y==0][:,1], label = '0', color = 'blue', marker='*')\n",
    "plt.scatter(-6, 0, color = 'red', marker='s', s=53)\n",
    "plt.scatter(-4, 0, color = 'blue', marker='s', s=53)\n",
    "plt.legend()"
   ]
  },
  {
   "cell_type": "markdown",
   "metadata": {},
   "source": [
    "En este plot anterior se evidencia cómo el clasificador basado en una distribución posterior puede clasificar puntos que no estaban en el conjunto de datos inicial (puntos con forma de cuadrado), permitiendo de esta manera extrapolar las funciones de clasificación mas allá de los datos iniciales."
   ]
  }
 ],
 "metadata": {
  "kernelspec": {
   "display_name": "base",
   "language": "python",
   "name": "python3"
  },
  "language_info": {
   "codemirror_mode": {
    "name": "ipython",
    "version": 3
   },
   "file_extension": ".py",
   "mimetype": "text/x-python",
   "name": "python",
   "nbconvert_exporter": "python",
   "pygments_lexer": "ipython3",
   "version": "3.12.4"
  }
 },
 "nbformat": 4,
 "nbformat_minor": 2
}
