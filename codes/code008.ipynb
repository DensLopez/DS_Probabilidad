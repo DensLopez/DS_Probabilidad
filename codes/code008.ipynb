{
 "cells": [
  {
   "cell_type": "markdown",
   "metadata": {},
   "source": [
    "# Usando la distribución binomial\n"
   ]
  },
  {
   "cell_type": "code",
   "execution_count": 4,
   "metadata": {},
   "outputs": [],
   "source": [
    "#importando librerias\n",
    "import numpy as np\n",
    "from numpy.random import binomial\n",
    "from scipy.stats import binom\n",
    "from math import factorial\n",
    "import matplotlib.pyplot as plt"
   ]
  },
  {
   "cell_type": "markdown",
   "metadata": {},
   "source": [
    "## Secuencias de eventos tipo Bernoulli\n",
    "\n",
    "$$\n",
    "P(k, n, p) = \\binom n k p^k (1-p)^{n-k} = \\frac{n!}{k!(n-k)!}p^k (1-p)^{n-k}\n",
    "$$"
   ]
  },
  {
   "cell_type": "markdown",
   "metadata": {},
   "source": [
    "$$\n",
    "\\begin{array}{ll}\n",
    "k =& \\text{Número de éxitos} \\\\\n",
    "n =& \\text{Número de lanzamientos}\\\\\n",
    "p =& \\text{Probabilidad de éxito}\\\\\n",
    "\\end{array}\n",
    "$$"
   ]
  },
  {
   "cell_type": "code",
   "execution_count": 2,
   "metadata": {},
   "outputs": [],
   "source": [
    "# definición de la distribución binomial \n",
    "def my_binomial(k, n, p):\n",
    "  return (factorial(n)/(factorial(k)*(factorial(n-k))))*pow(p,k)*pow(1-p, n-k)"
   ]
  },
  {
   "cell_type": "markdown",
   "metadata": {},
   "source": [
    "La función anterior representa solo la sustitución de valores cuando le ingresemos algunos."
   ]
  },
  {
   "cell_type": "code",
   "execution_count": 3,
   "metadata": {},
   "outputs": [
    {
     "name": "stdout",
     "output_type": "stream",
     "text": [
      "my binomial: 0.375\n"
     ]
    },
    {
     "data": {
      "text/plain": [
       "np.float64(0.3750000000000001)"
      ]
     },
     "execution_count": 3,
     "metadata": {},
     "output_type": "execute_result"
    }
   ],
   "source": [
    "# Ejemplo con k=2,n=3 y p=0.5\n",
    "print('my binomial: {}'.format(my_binomial(2, 3, 0.5)))\n",
    "\n",
    "#Comparación con función binomial de Scipy\n",
    "dist = binom(3, 0.5)\n",
    "\n",
    "#Función de probabilidad f(x) (distribuciones discretas)\n",
    "dist.pmf(2)"
   ]
  },
  {
   "cell_type": "markdown",
   "metadata": {},
   "source": [
    "La librería Scipy nos permite usar la función Binomial `binom(n,p)` dado $n$ numero de intentos y $p$ de probabilidad. A su vez este tipo de objeto tiene un método llamado `pmf` (Probability Mass Function) que es el equivalente a **Densidad de probabilidad**.     \n",
    "Con `dist.pmf(2)` le digo que evalué la función para 2 éxitos dada una distribución **binomial** de $3$ lanzamientos con una probabilidad de $0.5$.\n",
    "\n",
    "En resumen le decimos todo eso al teclear las lineas de código:\n",
    "```js\n",
    "dist.binom(3,0.5)\n",
    "dist.pmf(2)\n",
    "```\n",
    "\n",
    "Por lo que el resultado debería ser el mismo al calculado con la función hecha anteriormente."
   ]
  },
  {
   "cell_type": "markdown",
   "metadata": {},
   "source": [
    "Ademas también tenemos otro método ``cdf()`` que es Cumulative Distribution Function o Función de Distribución Acumulada. Y lo que le digo con la siguiente linea de código; es calcula la distribución de probabilidad acumulada de que yo dada esa distribución binomial, obtenga 2 o menos caras."
   ]
  },
  {
   "cell_type": "code",
   "execution_count": 47,
   "metadata": {},
   "outputs": [
    {
     "data": {
      "text/plain": [
       "np.float64(0.875)"
      ]
     },
     "execution_count": 47,
     "metadata": {},
     "output_type": "execute_result"
    }
   ],
   "source": [
    "dist.cdf(2)"
   ]
  },
  {
   "cell_type": "markdown",
   "metadata": {},
   "source": [
    "Entonces el `cdf()` es la sumatoria de las probabilidades. En este caso es la formula que viene en el siguiente párrafo. Entonces podemos ver que gracias a los métodos que nos ofrece Scipy, podemos calcular diversos parámetros para una distribución binomial."
   ]
  },
  {
   "cell_type": "markdown",
   "metadata": {},
   "source": [
    "## Validación del ejercicio hecho a mano\n",
    "\n",
    "La formula es entonces para calcular las probabilidades acumuladas, sobre todos los estados que cumplen la condición $k\\leq 2$ de la **densidad de probabilidad binomial**. Es una sumatoria porque es una **densidad discreta** y si fuera continua sería una integral.\n",
    "$$\n",
    "P(k\\leq 2, n=3, p=1/2) = \\sum_{k=0}^2 \\left[ \\frac{n!}{k!(n-k)!}p^k (1-p)^{n-k} \\right] = \\frac{7}{8}\n",
    "$$"
   ]
  },
  {
   "cell_type": "markdown",
   "metadata": {},
   "source": [
    "Nos proponemos hacer un ejercicio a mano para:\n",
    "\n",
    "Calcular cual es la probabilidad de que obtenga 2 o menos caras, dados 3 lanzamientos y dada una probabilidad equilibrada de 0.5."
   ]
  },
  {
   "cell_type": "markdown",
   "metadata": {},
   "source": [
    "## Distribución de probabilidad acumulada\n",
    "$$\n",
    "P(k, n, p) = \\sum_{i=0}^k \\frac{n!}{i!(n-i)!}\\; p^i (1-p)^{n-i}\n",
    "$$"
   ]
  },
  {
   "cell_type": "code",
   "execution_count": 71,
   "metadata": {},
   "outputs": [],
   "source": [
    "#Obteniendo el código para calcular la distribución acumulada\n",
    "from fractions import Fraction\n",
    "\n",
    "def mi_bino(k,n,p):\n",
    "    proba_kn=[]\n",
    "    for ka in range(k+1):\n",
    "        dis_ka=(factorial(n)/(factorial(ka)*factorial(n-ka)))*(p**ka)*((1-p)**(n-ka))\n",
    "        print(f'Probabilidad para obtener {ka} caras = {Fraction(dis_ka)}')\n",
    "        proba_kn.append(Fraction(dis_ka))\n",
    "        \n",
    "    proba_acu=sum(proba_kn)\n",
    "    print(f'\\nProbabilidad para obtener {k} o menos caras = {proba_acu}\\n')\n",
    "    return proba_acu,proba_kn\n"
   ]
  },
  {
   "cell_type": "code",
   "execution_count": 72,
   "metadata": {},
   "outputs": [
    {
     "name": "stdout",
     "output_type": "stream",
     "text": [
      "Probabilidad para obtener 0 caras = 1/8\n",
      "Probabilidad para obtener 1 caras = 3/8\n",
      "Probabilidad para obtener 2 caras = 3/8\n",
      "\n",
      "Probabilidad para obtener 2 o menos caras = 7/8\n",
      "\n",
      "Probabilidad por Kn: [Fraction(1, 8), Fraction(3, 8), Fraction(3, 8)]\n",
      "Probabilidad total: 7/8\n"
     ]
    }
   ],
   "source": [
    "# Probando la función anterior\n",
    "p_acu,p_kne=mi_bino(2,3,0.5)\n",
    "\n",
    "print(f'Probabilidad por Kn: {p_kne}')\n",
    "print(f'Probabilidad total: {p_acu}')"
   ]
  },
  {
   "cell_type": "markdown",
   "metadata": {},
   "source": [
    "Ahora desarrollaré una función en Simpy para obtener la distribución binomial."
   ]
  },
  {
   "cell_type": "code",
   "execution_count": 50,
   "metadata": {},
   "outputs": [],
   "source": [
    "import sympy as sp\n",
    "\n",
    "def mi_binom(k, n, p):\n",
    "    k, n, p = sp.symbols('k n p')\n",
    "    proba_kn = []\n",
    "    for ka in range(k_val + 1):\n",
    "        dis_ka = (sp.factorial(n) / (sp.factorial(ka) * sp.factorial(n - ka))) * (p ** ka) * ((1 - p) ** (n - ka))\n",
    "        dis_ka = dis_ka.subs({n: n_val, p: sp.Rational(p_val)})\n",
    "        proba_kn.append(dis_ka)\n",
    "        print(f'Probabilidad para obtener {ka} caras = {dis_ka}')\n",
    "\n",
    "    proba_acu = sum(proba_kn)\n",
    "    print(f'\\nProbabilidad para obtener {k_val} o menos caras = {proba_acu}\\n')\n",
    "    return proba_acu, proba_kn"
   ]
  },
  {
   "cell_type": "code",
   "execution_count": 51,
   "metadata": {},
   "outputs": [
    {
     "name": "stdout",
     "output_type": "stream",
     "text": [
      "Probabilidad para obtener 0 caras = 1/8\n",
      "Probabilidad para obtener 1 caras = 3/8\n",
      "Probabilidad para obtener 2 caras = 3/8\n",
      "\n",
      "Probabilidad para obtener 2 o menos caras = 7/8\n",
      "\n",
      "Probabilidad por Kn: [1/8, 3/8, 3/8]\n",
      "Probabilidad total: 7/8\n"
     ]
    }
   ],
   "source": [
    "# Valores específicos:\n",
    "k_val = 2\n",
    "n_val = 3\n",
    "p_val = 0.5\n",
    "\n",
    "proba_acu, proba_kn = mi_binom(k_val, n_val, p_val)\n",
    "print(f'Probabilidad por Kn: {proba_kn}')\n",
    "print(f'Probabilidad total: {proba_acu}')"
   ]
  },
  {
   "cell_type": "code",
   "execution_count": 39,
   "metadata": {},
   "outputs": [
    {
     "name": "stdout",
     "output_type": "stream",
     "text": [
      "Probabilidad para obtener 0 caras = \\frac{1}{1024}\n",
      "Probabilidad para obtener 1 caras = \\frac{5}{512}\n",
      "Probabilidad para obtener 2 caras = \\frac{45}{1024}\n",
      "Probabilidad para obtener 3 caras = \\frac{15}{128}\n",
      "\n",
      "Probabilidad para obtener 3 o menos caras = \\frac{11}{64}\n"
     ]
    }
   ],
   "source": [
    "import sympy as sp\n",
    "\n",
    "def mi_binomial(k_val, n_val, p_val):\n",
    "    k, n, p = sp.symbols('k n p')\n",
    "    proba_kn = []\n",
    "    for ka in range(k_val + 1):\n",
    "        dis_ka = (sp.factorial(n) / (sp.factorial(ka) * sp.factorial(n - ka))) * (p ** ka) * ((1 - p) ** (n - ka))\n",
    "        dis_ka = dis_ka.subs({n: n_val, p: sp.Rational(p_val)})\n",
    "        proba_kn.append(dis_ka)\n",
    "        print(f'Probabilidad para obtener {ka} caras = {sp.latex(dis_ka)}')\n",
    "\n",
    "    proba_acu = sum(proba_kn)\n",
    "    print(f'\\nProbabilidad para obtener {k_val} o menos caras = {sp.latex(proba_acu)}')\n",
    "    return proba_acu, proba_kn\n",
    "\n",
    "# Valores específicos:\n",
    "k_val = 3\n",
    "n_val = 10\n",
    "p_val = 0.5\n",
    "\n",
    "proba_acu, proba_kn = mi_binomial(k_val, n_val, p_val)"
   ]
  },
  {
   "cell_type": "markdown",
   "metadata": {},
   "source": [
    "## Simulaciones de secuencias con generadores aleatorios\n",
    "\n",
    "Vamos a entrar a la parte final del código, implementando generadores aleatorios.\n",
    "\n",
    ">Los generadores aleatorios tienen como propósito simular muestras de datos que resultarían de muestreos en la vida real de procesos aleatorios como lanzar una moneda o un dado.\n",
    "\n",
    "Si recuerdas en clases pasadas, habíamos hablado de la escuela **Frecuentista** que tenia como enemigo a la escuela  **Bayesiana**.\n",
    "\n",
    "El tema de generadores aleatorios tiene que ver mucho con esta escuela (**Frecuentista**). Porque los generadores aleatorios, tiene que ver con el hecho de que sean como unas simulaciones computarizadas que producen experimentos aleatorios como si fueran de la vida real. Como recordemos en el experimento de la moneda, la probabilidad de lazar una moneda que caiga en cara es de $\\frac 1 2$, pero eso no necesariamente quiere decir que de 10 lanzamientos 5 serán cara. Lo que quiere decir es que; en la medida en que tu numero de lanzamientos es cada vez mas grande, la fracción del total de caras que tu obtienes se acerca al 50% y esa filosofía es lo que se verá reflejado con el uso de estos generadores aleatorios. Cuando nos encontramos con paginas web, y encontramos este tipo de juegos, nos dan lo que sería el lanzamiento de un dado o una moneda como si fuera en la vida real.\n",
    "\n",
    "Así pues lo que hacemos es usar algoritmos determinísticos computacionales ára generar algo que de alguna manera se aproxima a un procesos aleatorio, sobre el cual no podemos predecir exactamente y eso es muy util, porque de esa manera podemos experimentar situaciones reales sencillos con algoritmos determinísticos.\n",
    "\n",
    "Vamos a simular este proceso de lanzamiento, y cada vez incrementando el numero de lanzamientos para comprobar que la probabilidad, se va acercando cada vez más a 0.5"
   ]
  },
  {
   "cell_type": "code",
   "execution_count": 54,
   "metadata": {},
   "outputs": [
    {
     "data": {
      "text/plain": [
       "3"
      ]
     },
     "execution_count": 54,
     "metadata": {},
     "output_type": "execute_result"
    }
   ],
   "source": [
    "# simulación con 100 lanzamientos de moneda equilibrada\n",
    "# (ejecuta esta celda varias veces para observar la variación en los resultados)\n",
    "p=0.5\n",
    "n=3\n",
    "#Metodo de numpy\n",
    "binomial(n, p)"
   ]
  },
  {
   "cell_type": "code",
   "execution_count": 55,
   "metadata": {},
   "outputs": [],
   "source": [
    "# Vamos a hacer un experimento generando una muestra de conjuntos de lanzamientos de a 3 monedas\n",
    "arr = []\n",
    "#Haciendo una estructura de control de loop\n",
    "#Un de 0 a 99\n",
    "for _ in range(100):\n",
    "  # El _ en el loop es para indicar que no se usará variable\n",
    "  arr.append(binomial(n, p))"
   ]
  },
  {
   "cell_type": "markdown",
   "metadata": {},
   "source": [
    "Si obtengo esos resultados, veremos que hay números aleatorios, ahora para ver de manera gráfica el resultado, procederemos a realizar un histograma"
   ]
  },
  {
   "cell_type": "code",
   "execution_count": 56,
   "metadata": {},
   "outputs": [
    {
     "data": {
      "text/plain": [
       "[1,\n",
       " 2,\n",
       " 1,\n",
       " 2,\n",
       " 2,\n",
       " 2,\n",
       " 1,\n",
       " 2,\n",
       " 1,\n",
       " 0,\n",
       " 1,\n",
       " 3,\n",
       " 0,\n",
       " 1,\n",
       " 2,\n",
       " 0,\n",
       " 2,\n",
       " 1,\n",
       " 2,\n",
       " 0,\n",
       " 1,\n",
       " 3,\n",
       " 2,\n",
       " 3,\n",
       " 2,\n",
       " 1,\n",
       " 1,\n",
       " 2,\n",
       " 1,\n",
       " 1,\n",
       " 2,\n",
       " 1,\n",
       " 1,\n",
       " 1,\n",
       " 1,\n",
       " 1,\n",
       " 0,\n",
       " 1,\n",
       " 1,\n",
       " 2,\n",
       " 1,\n",
       " 3,\n",
       " 2,\n",
       " 2,\n",
       " 1,\n",
       " 2,\n",
       " 3,\n",
       " 0,\n",
       " 1,\n",
       " 2,\n",
       " 2,\n",
       " 0,\n",
       " 1,\n",
       " 0,\n",
       " 2,\n",
       " 2,\n",
       " 0,\n",
       " 1,\n",
       " 2,\n",
       " 2,\n",
       " 2,\n",
       " 1,\n",
       " 0,\n",
       " 2,\n",
       " 1,\n",
       " 2,\n",
       " 3,\n",
       " 3,\n",
       " 2,\n",
       " 2,\n",
       " 2,\n",
       " 1,\n",
       " 1,\n",
       " 2,\n",
       " 1,\n",
       " 1,\n",
       " 3,\n",
       " 1,\n",
       " 2,\n",
       " 1,\n",
       " 2,\n",
       " 2,\n",
       " 1,\n",
       " 2,\n",
       " 2,\n",
       " 2,\n",
       " 2,\n",
       " 3,\n",
       " 0,\n",
       " 1,\n",
       " 1,\n",
       " 3,\n",
       " 2,\n",
       " 1,\n",
       " 1,\n",
       " 2,\n",
       " 2,\n",
       " 2,\n",
       " 1,\n",
       " 1]"
      ]
     },
     "execution_count": 56,
     "metadata": {},
     "output_type": "execute_result"
    }
   ],
   "source": [
    "arr"
   ]
  },
  {
   "cell_type": "markdown",
   "metadata": {},
   "source": [
    "## Explicación del código siguiente\n",
    "Los resultados posibles de los lanzamientos son(values):\n",
    "- 0 caras\n",
    "- 1 cara\n",
    "- 2 caras\n",
    "- 3 caras\n",
    "\n",
    "Luego vuelvo a ejecutar el código de generación de eventos aleatorios.\n",
    "```js\n",
    "  for _ in range(num_trials):\n",
    "    arr.append(binomial(3, 0.5))\n",
    "```\n",
    "- `num_trials:` Es el número de intentos, es decir vamos a realizar un experimento de  `num_trials` veces `3 lanzamientos`de moneda.\n",
    "\n",
    "Una vez que se ejecutaron esos experimentos aleatorios, le dire construye una distribución simulada.\n",
    "\n",
    "**¿Qué quiere decir una distribución simulada?**    \n",
    "Si nos damos cuenta la lista `arr` es en realidad una simulación de muchos experimentos. Para yo obtener las frecuencias de ocurrencia, lo que debo calcular es: **cuantas veces aparece** cada uno de los elementos en la lista, eso se hace con una función llamada `unique()`.Cuando le pongo\n",
    "\n",
    "```js\n",
    "np.unique(arr,return_counts=True)\n",
    "```\n",
    "\n",
    "Le estoy diciendo que identifique todos los elementos únicos de una lista, además le puedo decir `return_counts=True`para que me diga cuantas veces apareció un elemento\n"
   ]
  },
  {
   "cell_type": "code",
   "execution_count": 57,
   "metadata": {},
   "outputs": [
    {
     "data": {
      "text/plain": [
       "(array([0, 1, 2, 3]), array([11, 39, 40, 10]))"
      ]
     },
     "execution_count": 57,
     "metadata": {},
     "output_type": "execute_result"
    }
   ],
   "source": [
    "np.unique(arr,return_counts=True)"
   ]
  },
  {
   "cell_type": "markdown",
   "metadata": {},
   "source": [
    "Lo anterior me dice:\n",
    "- 0 caras se obtuvieron 11 veces\n",
    "- 1 cara se obtuvieron 39 veces\n",
    "- 2 caras se obtuvieron 40 veces y\n",
    "- 3 caras se obtuvieron 10 veces\n",
    "\n",
    "Como se puede ver `array[0,1,2,3]` es `np.unique(arr,return_counts=True)[0]` y `array([11, 39, 40, 10]` es `np.unique(arr,return_counts=True)[1]`. Por eso en el código vamos a usar este ultimo elemento de la lista, de aquí obtenemos el conteo que nos interesa, \n",
    "\n",
    "Ahora para calcular la probabilidad hacemos:\n",
    "```js\n",
    "np.unique(arr, return_counts=True)[1]/len(arr)\n",
    "```"
   ]
  },
  {
   "cell_type": "code",
   "execution_count": 58,
   "metadata": {},
   "outputs": [
    {
     "data": {
      "text/plain": [
       "array([0.11, 0.39, 0.4 , 0.1 ])"
      ]
     },
     "execution_count": 58,
     "metadata": {},
     "output_type": "execute_result"
    }
   ],
   "source": [
    "np.unique(arr, return_counts=True)[1]/len(arr)"
   ]
  },
  {
   "cell_type": "markdown",
   "metadata": {},
   "source": [
    "Entonces a lo anterior lo vamos a llamar una **distribución simulada**. Y obtendremos una lista con los valores.\n",
    "\n",
    "Después voy a obtener una distribución teórica mediante una distribución binomial.\n",
    "\n",
    "```js\n",
    "distribucion_teorica = [binom(3, 0.5).pmf(k) for k in values]\n",
    "```"
   ]
  },
  {
   "cell_type": "code",
   "execution_count": 60,
   "metadata": {},
   "outputs": [
    {
     "data": {
      "text/plain": [
       "[np.float64(0.12499999999999999),\n",
       " np.float64(0.3750000000000001),\n",
       " np.float64(0.3750000000000001),\n",
       " np.float64(0.125)]"
      ]
     },
     "execution_count": 60,
     "metadata": {},
     "output_type": "execute_result"
    }
   ],
   "source": [
    "values = [0,1,2,3]\n",
    "distribucion_teorica = [binom(3, 0.5).pmf(k) for k in values]\n",
    "distribucion_teorica"
   ]
  },
  {
   "cell_type": "markdown",
   "metadata": {},
   "source": [
    "Entonces como podemos observar estos valores son algo distintos a los anteriores. De aquí viene la filosofía tipo frecuentista.\n",
    "\n",
    "Entonces podemos decir que la simulada se parece a la teórica pero no tanto. Entonces el código terminado nos reflejará que cuando yo le de a `num_trials` un numero grande, ambas respuestas deberían acercarse más, puesto que esa es la finalidad. Ver como la probabilidad se va acercando mas de acuerdo a lo que dice la escuela Frecuentista.\n",
    "\n",
    "El resto de código será para dibujar los diagramas o gráficas correspondientes a cada distribución en matplot lib."
   ]
  },
  {
   "cell_type": "code",
   "execution_count": 68,
   "metadata": {},
   "outputs": [],
   "source": [
    "#Definiendo función para simular los eventos \n",
    "def plot_hist(num_trials):\n",
    "  values = [0,1,2,3]\n",
    "  arr = []\n",
    "  for _ in range(num_trials):\n",
    "    arr.append(binomial(3, 0.5))\n",
    "  distribucion_simulada = np.unique(arr, return_counts=True)[1]/len(arr)\n",
    "  distribucion_teorica = [binom(3, 0.5).pmf(k) for k in values]\n",
    "  plt.bar(values, distribucion_teorica, label = 'Teoría', color = 'red')\n",
    "  plt.bar(values, distribucion_simulada, label = 'Simulación', alpha = 0.6, color = 'blue')\n",
    "  plt.title('Simulación con {} experimentos'.format(num_trials))\n",
    "  plt.show()\n"
   ]
  },
  {
   "cell_type": "code",
   "execution_count": 67,
   "metadata": {},
   "outputs": [
    {
     "data": {
      "image/png": "[encoded data removed]",
      "text/plain": [
       "<Figure size 640x480 with 1 Axes>"
      ]
     },
     "metadata": {},
     "output_type": "display_data"
    }
   ],
   "source": [
    "#Desplegando los diferentes resultados\n",
    "#Haciendo una simulación para 20 intentos\n",
    "plot_hist(20)"
   ]
  },
  {
   "cell_type": "markdown",
   "metadata": {},
   "source": [
    "Si nos damos cuenta en azul se encuentran los resultados teóricos y en rojo los resultados simulados. Pero no están iguales.\n",
    "\n",
    "¿Qué sucede si hago un experimento con mayor numero de veces?"
   ]
  },
  {
   "cell_type": "code",
   "execution_count": 69,
   "metadata": {},
   "outputs": [
    {
     "data": {
      "image/png": "[encoded data removed]",
      "text/plain": [
       "<Figure size 640x480 with 1 Axes>"
      ]
     },
     "metadata": {},
     "output_type": "display_data"
    }
   ],
   "source": [
    "#Haciendo una simulación para 200 intentos\n",
    "plot_hist(200)"
   ]
  },
  {
   "cell_type": "markdown",
   "metadata": {},
   "source": [
    "Observamos que tanto la distribución teórica como la simulada empiezan a parecerse. Intentemoslo con un mayor numero de veces, para ver si en algún punto tiende a tener un comportamiento como el esperado por la teoría frecuentista."
   ]
  },
  {
   "cell_type": "code",
   "execution_count": 70,
   "metadata": {},
   "outputs": [
    {
     "data": {
      "image/png": "[encoded data removed]",
      "text/plain": [
       "<Figure size 640x480 with 1 Axes>"
      ]
     },
     "metadata": {},
     "output_type": "display_data"
    }
   ],
   "source": [
    "#Haciendo una simulación para 20000 intentos\n",
    "plot_hist(20000)"
   ]
  },
  {
   "cell_type": "markdown",
   "metadata": {},
   "source": [
    "En este ultimo dibujo las distribuciones son prácticamente la misma"
   ]
  },
  {
   "cell_type": "markdown",
   "metadata": {},
   "source": [
    "Con esto concluimos. Nuestro experimento simulado nos permitió ver la filosofía de la escuela frecuentista, donde; **las probabilidades teórica se cumplen en el que el numero de experimentos es muy grande**. Así hemos obtenido una validación y este esquema realmente es más común de lo que se cree, porque aveces en la vida real hacer experimentos más complicados es más costoso, pero si podemos reemplazarlos por versiones simuladas computacionales, será relativamente mas económico hacer experimentos que validen nuestros ejercicios científicos o de análisis de ciencia de datos."
   ]
  },
  {
   "cell_type": "markdown",
   "metadata": {},
   "source": [
    "## Extras:\n",
    "\n",
    "- [Scipy binom](https://docs.scipy.org/doc/scipy/reference/generated/scipy.stats.binom.html)\n",
    "- [Numpy binom](https://docs.scipy.org/doc/numpy-1.14.1/reference/generated/numpy.random.binomial.html)\n",
    "\n",
    "David R. Anderson Dennis J. Sweeney Thomas A. Williams\n",
    "\n",
    "Si lo busca en el buscador , en el primer resultado lo encontrará para descargar en pdf, tiene 1090 pag"
   ]
  }
 ],
 "metadata": {
  "kernelspec": {
   "display_name": "base",
   "language": "python",
   "name": "python3"
  },
  "language_info": {
   "codemirror_mode": {
    "name": "ipython",
    "version": 3
   },
   "file_extension": ".py",
   "mimetype": "text/x-python",
   "name": "python",
   "nbconvert_exporter": "python",
   "pygments_lexer": "ipython3",
   "version": "3.12.4"
  }
 },
 "nbformat": 4,
 "nbformat_minor": 2
}
